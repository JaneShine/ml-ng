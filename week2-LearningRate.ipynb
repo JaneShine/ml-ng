{
 "cells": [
  {
   "cell_type": "code",
   "execution_count": 7,
   "id": "66903a83",
   "metadata": {},
   "outputs": [],
   "source": [
    "import numpy as np\n",
    "import matplotlib.pyplot as plt\n",
    "# 这周没啥特别内容，只记两个知识点"
   ]
  },
  {
   "cell_type": "markdown",
   "id": "ca1c0993",
   "metadata": {},
   "source": [
    "#  Learning Rate\n",
    "week1 中为了让参数收敛对$\\theta _0$ 和$\\theta _ 1$的$\\alpha$单独设置了不一样的值\n",
    "\n",
    "```python\n",
    "alpha0 = 0.5\n",
    "alpha1 = 1e-4\n",
    "```\n",
    "这是在经验角度下做的手动调整."
   ]
  },
  {
   "cell_type": "markdown",
   "id": "0e88b5f1",
   "metadata": {},
   "source": [
    "# Normal Equation\n",
    "对于cost function 一个正规拟合的函数是：\n",
    "\n",
    "$J(\\theta) = a\\theta^{2} + b \\theta + c$\n",
    "\n",
    "在week1中的图也能基本看出这个函数的适用性。\n",
    "\n",
    "可以通过求解下面的方程来找出使得代价函数最小的参数的：\n",
    "\n",
    "$\\frac{\\partial J(\\theta)}{\\partial \\theta} = 0$\n",
    "\n",
    "$\\theta = (X^T X)^{-1}X^Ty$\n",
    "\n",
    "正规方程不需要选择learning rate,但是只适用于线性模型，不适合逻辑回归模型等其他模型。"
   ]
  }
 ],
 "metadata": {
  "kernelspec": {
   "display_name": "Python 3",
   "language": "python",
   "name": "python3"
  },
  "language_info": {
   "codemirror_mode": {
    "name": "ipython",
    "version": 3
   },
   "file_extension": ".py",
   "mimetype": "text/x-python",
   "name": "python",
   "nbconvert_exporter": "python",
   "pygments_lexer": "ipython3",
   "version": "3.10.11"
  }
 },
 "nbformat": 4,
 "nbformat_minor": 5
}
